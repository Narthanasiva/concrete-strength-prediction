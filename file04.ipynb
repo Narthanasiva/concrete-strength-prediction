{
 "cells": [
  {
   "cell_type": "code",
   "execution_count": 16,
   "id": "573a9599",
   "metadata": {},
   "outputs": [],
   "source": [
    "import pandas as pd\n",
    "import numpy as np\n",
    "from sklearn.linear_model import LinearRegression\n",
    "from sklearn.model_selection import train_test_split\n",
    "from sklearn.metrics import mean_squared_error"
   ]
  },
  {
   "cell_type": "markdown",
   "id": "9184f58a",
   "metadata": {},
   "source": [
    "# Download the dataset"
   ]
  },
  {
   "cell_type": "code",
   "execution_count": 17,
   "id": "dbca94d2",
   "metadata": {
    "collapsed": true
   },
   "outputs": [
    {
     "data": {
      "text/html": [
       "<div>\n",
       "<style scoped>\n",
       "    .dataframe tbody tr th:only-of-type {\n",
       "        vertical-align: middle;\n",
       "    }\n",
       "\n",
       "    .dataframe tbody tr th {\n",
       "        vertical-align: top;\n",
       "    }\n",
       "\n",
       "    .dataframe thead th {\n",
       "        text-align: right;\n",
       "    }\n",
       "</style>\n",
       "<table border=\"1\" class=\"dataframe\">\n",
       "  <thead>\n",
       "    <tr style=\"text-align: right;\">\n",
       "      <th></th>\n",
       "      <th>Cement</th>\n",
       "      <th>Blast Furnace Slag</th>\n",
       "      <th>Fly Ash</th>\n",
       "      <th>Water</th>\n",
       "      <th>Superplasticizer</th>\n",
       "      <th>Coarse Aggregate</th>\n",
       "      <th>Fine Aggregate</th>\n",
       "      <th>Age</th>\n",
       "      <th>Strength</th>\n",
       "    </tr>\n",
       "  </thead>\n",
       "  <tbody>\n",
       "    <tr>\n",
       "      <th>0</th>\n",
       "      <td>540.0</td>\n",
       "      <td>0.0</td>\n",
       "      <td>0.0</td>\n",
       "      <td>162.0</td>\n",
       "      <td>2.5</td>\n",
       "      <td>1040.0</td>\n",
       "      <td>676.0</td>\n",
       "      <td>28</td>\n",
       "      <td>79.99</td>\n",
       "    </tr>\n",
       "    <tr>\n",
       "      <th>1</th>\n",
       "      <td>540.0</td>\n",
       "      <td>0.0</td>\n",
       "      <td>0.0</td>\n",
       "      <td>162.0</td>\n",
       "      <td>2.5</td>\n",
       "      <td>1055.0</td>\n",
       "      <td>676.0</td>\n",
       "      <td>28</td>\n",
       "      <td>61.89</td>\n",
       "    </tr>\n",
       "    <tr>\n",
       "      <th>2</th>\n",
       "      <td>332.5</td>\n",
       "      <td>142.5</td>\n",
       "      <td>0.0</td>\n",
       "      <td>228.0</td>\n",
       "      <td>0.0</td>\n",
       "      <td>932.0</td>\n",
       "      <td>594.0</td>\n",
       "      <td>270</td>\n",
       "      <td>40.27</td>\n",
       "    </tr>\n",
       "    <tr>\n",
       "      <th>3</th>\n",
       "      <td>332.5</td>\n",
       "      <td>142.5</td>\n",
       "      <td>0.0</td>\n",
       "      <td>228.0</td>\n",
       "      <td>0.0</td>\n",
       "      <td>932.0</td>\n",
       "      <td>594.0</td>\n",
       "      <td>365</td>\n",
       "      <td>41.05</td>\n",
       "    </tr>\n",
       "    <tr>\n",
       "      <th>4</th>\n",
       "      <td>198.6</td>\n",
       "      <td>132.4</td>\n",
       "      <td>0.0</td>\n",
       "      <td>192.0</td>\n",
       "      <td>0.0</td>\n",
       "      <td>978.4</td>\n",
       "      <td>825.5</td>\n",
       "      <td>360</td>\n",
       "      <td>44.30</td>\n",
       "    </tr>\n",
       "  </tbody>\n",
       "</table>\n",
       "</div>"
      ],
      "text/plain": [
       "   Cement  Blast Furnace Slag  Fly Ash  Water  Superplasticizer  \\\n",
       "0   540.0                 0.0      0.0  162.0               2.5   \n",
       "1   540.0                 0.0      0.0  162.0               2.5   \n",
       "2   332.5               142.5      0.0  228.0               0.0   \n",
       "3   332.5               142.5      0.0  228.0               0.0   \n",
       "4   198.6               132.4      0.0  192.0               0.0   \n",
       "\n",
       "   Coarse Aggregate  Fine Aggregate  Age  Strength  \n",
       "0            1040.0           676.0   28     79.99  \n",
       "1            1055.0           676.0   28     61.89  \n",
       "2             932.0           594.0  270     40.27  \n",
       "3             932.0           594.0  365     41.05  \n",
       "4             978.4           825.5  360     44.30  "
      ]
     },
     "execution_count": 17,
     "metadata": {},
     "output_type": "execute_result"
    }
   ],
   "source": [
    "concrete_data = pd.read_csv('https://s3-api.us-geo.objectstorage.softlayer.net/cf-courses-data/CognitiveClass/DL0101EN/labs/data/concrete_data.csv')\n",
    "concrete_data.head()"
   ]
  },
  {
   "cell_type": "code",
   "execution_count": 19,
   "id": "21b712bf",
   "metadata": {},
   "outputs": [],
   "source": [
    "concrete_data_columns = concrete_data.columns\n",
    "\n",
    "predictors = concrete_data[concrete_data_columns[concrete_data_columns != 'Strength']] # all columns except Strength\n",
    "target = concrete_data['Strength'] # Strength column"
   ]
  },
  {
   "cell_type": "markdown",
   "id": "297298aa",
   "metadata": {},
   "source": [
    "# Nomalize the data"
   ]
  },
  {
   "cell_type": "code",
   "execution_count": 20,
   "id": "16dcf368",
   "metadata": {},
   "outputs": [],
   "source": [
    "predictors_norm = (predictors - predictors.mean()) / predictors.std()\n",
    "#target_norm = (target - target.mean()) / target.std()"
   ]
  },
  {
   "cell_type": "code",
   "execution_count": 21,
   "id": "9116f678",
   "metadata": {},
   "outputs": [],
   "source": [
    "# get the locations\n",
    "#X = concrete_data.iloc[:, :-1]\n",
    "#y = concrete_data.iloc[:, -1]\n",
    "  \n",
    "\n",
    "X_train, X_test, y_train, y_test = train_test_split(predictors_norm,target, test_size=0.3, random_state=0)  # split the dataset"
   ]
  },
  {
   "cell_type": "code",
   "execution_count": 22,
   "id": "294b1ce3",
   "metadata": {},
   "outputs": [],
   "source": [
    "n_cols=predictors_norm.shape[1] #Number of features for input layer"
   ]
  },
  {
   "cell_type": "markdown",
   "id": "ddc22469",
   "metadata": {},
   "source": [
    "# Building the Model"
   ]
  },
  {
   "cell_type": "code",
   "execution_count": 13,
   "id": "3d4bb23f",
   "metadata": {},
   "outputs": [
    {
     "name": "stdout",
     "output_type": "stream",
     "text": [
      "Collecting keras\n",
      "  Downloading keras-2.7.0-py2.py3-none-any.whl (1.3 MB)\n",
      "Installing collected packages: keras\n",
      "Successfully installed keras-2.7.0\n",
      "Note: you may need to restart the kernel to use updated packages.\n"
     ]
    }
   ],
   "source": [
    "pip install keras"
   ]
  },
  {
   "cell_type": "code",
   "execution_count": 5,
   "id": "e91629e3",
   "metadata": {
    "collapsed": true
   },
   "outputs": [
    {
     "name": "stdout",
     "output_type": "stream",
     "text": [
      "Requirement already satisfied: tensorflow in c:\\users\\narthana s\\anaconda3\\lib\\site-packages (2.7.0)\n",
      "Requirement already satisfied: google-pasta>=0.1.1 in c:\\users\\narthana s\\anaconda3\\lib\\site-packages (from tensorflow) (0.2.0)\n",
      "Requirement already satisfied: keras-preprocessing>=1.1.1 in c:\\users\\narthana s\\anaconda3\\lib\\site-packages (from tensorflow) (1.1.2)\n",
      "Requirement already satisfied: astunparse>=1.6.0 in c:\\users\\narthana s\\anaconda3\\lib\\site-packages (from tensorflow) (1.6.3)\n",
      "Requirement already satisfied: keras<2.8,>=2.7.0rc0 in c:\\users\\narthana s\\anaconda3\\lib\\site-packages (from tensorflow) (2.7.0)\n",
      "Requirement already satisfied: grpcio<2.0,>=1.24.3 in c:\\users\\narthana s\\anaconda3\\lib\\site-packages (from tensorflow) (1.43.0)\n",
      "Requirement already satisfied: tensorflow-io-gcs-filesystem>=0.21.0 in c:\\users\\narthana s\\anaconda3\\lib\\site-packages (from tensorflow) (0.23.1)\n",
      "Requirement already satisfied: gast<0.5.0,>=0.2.1 in c:\\users\\narthana s\\anaconda3\\lib\\site-packages (from tensorflow) (0.4.0)\n",
      "Requirement already satisfied: tensorflow-estimator<2.8,~=2.7.0rc0 in c:\\users\\narthana s\\anaconda3\\lib\\site-packages (from tensorflow) (2.7.0)\n",
      "Requirement already satisfied: protobuf>=3.9.2 in c:\\users\\narthana s\\anaconda3\\lib\\site-packages (from tensorflow) (3.19.4)\n",
      "Requirement already satisfied: libclang>=9.0.1 in c:\\users\\narthana s\\anaconda3\\lib\\site-packages (from tensorflow) (13.0.0)\n",
      "Requirement already satisfied: absl-py>=0.4.0 in c:\\users\\narthana s\\anaconda3\\lib\\site-packages (from tensorflow) (1.0.0)\n",
      "Requirement already satisfied: numpy>=1.14.5 in c:\\users\\narthana s\\anaconda3\\lib\\site-packages (from tensorflow) (1.20.3)\n",
      "Requirement already satisfied: typing-extensions>=3.6.6 in c:\\users\\narthana s\\anaconda3\\lib\\site-packages (from tensorflow) (3.10.0.2)\n",
      "Requirement already satisfied: flatbuffers<3.0,>=1.12 in c:\\users\\narthana s\\anaconda3\\lib\\site-packages (from tensorflow) (2.0)\n",
      "Requirement already satisfied: wrapt>=1.11.0 in c:\\users\\narthana s\\anaconda3\\lib\\site-packages (from tensorflow) (1.12.1)\n",
      "Requirement already satisfied: six>=1.12.0 in c:\\users\\narthana s\\anaconda3\\lib\\site-packages (from tensorflow) (1.16.0)\n",
      "Requirement already satisfied: wheel<1.0,>=0.32.0 in c:\\users\\narthana s\\anaconda3\\lib\\site-packages (from tensorflow) (0.37.0)\n",
      "Requirement already satisfied: tensorboard~=2.6 in c:\\users\\narthana s\\anaconda3\\lib\\site-packages (from tensorflow) (2.8.0)\n",
      "Requirement already satisfied: opt-einsum>=2.3.2 in c:\\users\\narthana s\\anaconda3\\lib\\site-packages (from tensorflow) (3.3.0)\n",
      "Requirement already satisfied: termcolor>=1.1.0 in c:\\users\\narthana s\\anaconda3\\lib\\site-packages (from tensorflow) (1.1.0)\n",
      "Requirement already satisfied: h5py>=2.9.0 in c:\\users\\narthana s\\anaconda3\\lib\\site-packages (from tensorflow) (3.2.1)\n",
      "Requirement already satisfied: requests<3,>=2.21.0 in c:\\users\\narthana s\\anaconda3\\lib\\site-packages (from tensorboard~=2.6->tensorflow) (2.26.0)\n",
      "Requirement already satisfied: markdown>=2.6.8 in c:\\users\\narthana s\\anaconda3\\lib\\site-packages (from tensorboard~=2.6->tensorflow) (3.3.6)\n",
      "Requirement already satisfied: tensorboard-plugin-wit>=1.6.0 in c:\\users\\narthana s\\anaconda3\\lib\\site-packages (from tensorboard~=2.6->tensorflow) (1.8.1)\n",
      "Requirement already satisfied: google-auth<3,>=1.6.3 in c:\\users\\narthana s\\anaconda3\\lib\\site-packages (from tensorboard~=2.6->tensorflow) (2.5.0)\n",
      "Requirement already satisfied: tensorboard-data-server<0.7.0,>=0.6.0 in c:\\users\\narthana s\\anaconda3\\lib\\site-packages (from tensorboard~=2.6->tensorflow) (0.6.1)\n",
      "Requirement already satisfied: google-auth-oauthlib<0.5,>=0.4.1 in c:\\users\\narthana s\\anaconda3\\lib\\site-packages (from tensorboard~=2.6->tensorflow) (0.4.6)\n",
      "Requirement already satisfied: setuptools>=41.0.0 in c:\\users\\narthana s\\anaconda3\\lib\\site-packages (from tensorboard~=2.6->tensorflow) (58.0.4)\n",
      "Requirement already satisfied: werkzeug>=0.11.15 in c:\\users\\narthana s\\anaconda3\\lib\\site-packages (from tensorboard~=2.6->tensorflow) (2.0.2)\n",
      "Requirement already satisfied: pyasn1-modules>=0.2.1 in c:\\users\\narthana s\\anaconda3\\lib\\site-packages (from google-auth<3,>=1.6.3->tensorboard~=2.6->tensorflow) (0.2.8)\n",
      "Requirement already satisfied: rsa<5,>=3.1.4 in c:\\users\\narthana s\\anaconda3\\lib\\site-packages (from google-auth<3,>=1.6.3->tensorboard~=2.6->tensorflow) (4.8)\n",
      "Requirement already satisfied: cachetools<6.0,>=2.0.0 in c:\\users\\narthana s\\anaconda3\\lib\\site-packages (from google-auth<3,>=1.6.3->tensorboard~=2.6->tensorflow) (5.0.0)\n",
      "Requirement already satisfied: requests-oauthlib>=0.7.0 in c:\\users\\narthana s\\anaconda3\\lib\\site-packages (from google-auth-oauthlib<0.5,>=0.4.1->tensorboard~=2.6->tensorflow) (1.3.0)\n",
      "Requirement already satisfied: importlib-metadata>=4.4 in c:\\users\\narthana s\\anaconda3\\lib\\site-packages (from markdown>=2.6.8->tensorboard~=2.6->tensorflow) (4.8.1)\n",
      "Requirement already satisfied: zipp>=0.5 in c:\\users\\narthana s\\anaconda3\\lib\\site-packages (from importlib-metadata>=4.4->markdown>=2.6.8->tensorboard~=2.6->tensorflow) (3.6.0)\n",
      "Requirement already satisfied: pyasn1<0.5.0,>=0.4.6 in c:\\users\\narthana s\\anaconda3\\lib\\site-packages (from pyasn1-modules>=0.2.1->google-auth<3,>=1.6.3->tensorboard~=2.6->tensorflow) (0.4.8)\n",
      "Requirement already satisfied: charset-normalizer~=2.0.0 in c:\\users\\narthana s\\anaconda3\\lib\\site-packages (from requests<3,>=2.21.0->tensorboard~=2.6->tensorflow) (2.0.4)\n",
      "Requirement already satisfied: certifi>=2017.4.17 in c:\\users\\narthana s\\anaconda3\\lib\\site-packages (from requests<3,>=2.21.0->tensorboard~=2.6->tensorflow) (2021.10.8)\n",
      "Requirement already satisfied: idna<4,>=2.5 in c:\\users\\narthana s\\anaconda3\\lib\\site-packages (from requests<3,>=2.21.0->tensorboard~=2.6->tensorflow) (3.2)\n",
      "Requirement already satisfied: urllib3<1.27,>=1.21.1 in c:\\users\\narthana s\\anaconda3\\lib\\site-packages (from requests<3,>=2.21.0->tensorboard~=2.6->tensorflow) (1.26.7)\n",
      "Requirement already satisfied: oauthlib>=3.0.0 in c:\\users\\narthana s\\anaconda3\\lib\\site-packages (from requests-oauthlib>=0.7.0->google-auth-oauthlib<0.5,>=0.4.1->tensorboard~=2.6->tensorflow) (3.1.1)\n",
      "Note: you may need to restart the kernel to use updated packages.\n"
     ]
    }
   ],
   "source": [
    "pip install tensorflow"
   ]
  },
  {
   "cell_type": "code",
   "execution_count": 23,
   "id": "cc6800fe",
   "metadata": {},
   "outputs": [],
   "source": [
    "import tensorflow\n",
    "import keras"
   ]
  },
  {
   "cell_type": "code",
   "execution_count": 24,
   "id": "030eaad6",
   "metadata": {},
   "outputs": [],
   "source": [
    "from keras.models import Sequential\n",
    "from keras.layers import Dense"
   ]
  },
  {
   "cell_type": "markdown",
   "id": "91b0d9b8",
   "metadata": {},
   "source": [
    "### Neural network with one hidden layer & 10 nodes"
   ]
  },
  {
   "cell_type": "code",
   "execution_count": 35,
   "id": "ac899a38",
   "metadata": {},
   "outputs": [],
   "source": [
    "def regression_model():\n",
    "    # create model\n",
    "    model = Sequential()\n",
    "    model.add(Dense(10, activation='relu', input_shape=(n_cols,)))\n",
    "    model.add(Dense(10, activation='relu'))\n",
    "    model.add(Dense(10, activation='relu'))\n",
    "    model.add(Dense(1))\n",
    "    \n",
    "    # compile model\n",
    "    model.compile(optimizer='adam', loss='mean_squared_error')\n",
    "    return model"
   ]
  },
  {
   "cell_type": "code",
   "execution_count": 36,
   "id": "b8797059",
   "metadata": {},
   "outputs": [],
   "source": [
    "# build the model\n",
    "model = regression_model()"
   ]
  },
  {
   "cell_type": "markdown",
   "id": "63aa7b40",
   "metadata": {},
   "source": [
    "# Model Training"
   ]
  },
  {
   "cell_type": "code",
   "execution_count": 37,
   "id": "06baee0d",
   "metadata": {
    "collapsed": true
   },
   "outputs": [
    {
     "name": "stdout",
     "output_type": "stream",
     "text": [
      "Epoch 1/100\n",
      "23/23 [==============================] - 0s 4ms/step - loss: 1519.9579 - val_loss: 1465.0820\n",
      "Epoch 2/100\n",
      "23/23 [==============================] - 0s 2ms/step - loss: 1483.8197 - val_loss: 1423.7341\n",
      "Epoch 3/100\n",
      "23/23 [==============================] - 0s 2ms/step - loss: 1432.8590 - val_loss: 1362.1769\n",
      "Epoch 4/100\n",
      "23/23 [==============================] - 0s 2ms/step - loss: 1355.2660 - val_loss: 1272.7383\n",
      "Epoch 5/100\n",
      "23/23 [==============================] - 0s 2ms/step - loss: 1244.1998 - val_loss: 1143.0023\n",
      "Epoch 6/100\n",
      "23/23 [==============================] - 0s 2ms/step - loss: 1087.5618 - val_loss: 967.5496\n",
      "Epoch 7/100\n",
      "23/23 [==============================] - 0s 2ms/step - loss: 882.9036 - val_loss: 746.0971\n",
      "Epoch 8/100\n",
      "23/23 [==============================] - 0s 2ms/step - loss: 650.2855 - val_loss: 517.4963\n",
      "Epoch 9/100\n",
      "23/23 [==============================] - 0s 2ms/step - loss: 450.3145 - val_loss: 346.6339\n",
      "Epoch 10/100\n",
      "23/23 [==============================] - 0s 2ms/step - loss: 324.3226 - val_loss: 258.2744\n",
      "Epoch 11/100\n",
      "23/23 [==============================] - 0s 2ms/step - loss: 261.9413 - val_loss: 221.9584\n",
      "Epoch 12/100\n",
      "23/23 [==============================] - 0s 2ms/step - loss: 234.0084 - val_loss: 204.8410\n",
      "Epoch 13/100\n",
      "23/23 [==============================] - 0s 2ms/step - loss: 219.7279 - val_loss: 194.9622\n",
      "Epoch 14/100\n",
      "23/23 [==============================] - 0s 2ms/step - loss: 209.0368 - val_loss: 188.3608\n",
      "Epoch 15/100\n",
      "23/23 [==============================] - 0s 2ms/step - loss: 201.2604 - val_loss: 182.7753\n",
      "Epoch 16/100\n",
      "23/23 [==============================] - 0s 2ms/step - loss: 194.3188 - val_loss: 177.6883\n",
      "Epoch 17/100\n",
      "23/23 [==============================] - 0s 2ms/step - loss: 189.1287 - val_loss: 173.3530\n",
      "Epoch 18/100\n",
      "23/23 [==============================] - 0s 2ms/step - loss: 184.0137 - val_loss: 169.2026\n",
      "Epoch 19/100\n",
      "23/23 [==============================] - 0s 2ms/step - loss: 179.3453 - val_loss: 165.3103\n",
      "Epoch 20/100\n",
      "23/23 [==============================] - 0s 2ms/step - loss: 175.5811 - val_loss: 161.7719\n",
      "Epoch 21/100\n",
      "23/23 [==============================] - 0s 2ms/step - loss: 172.0806 - val_loss: 159.0171\n",
      "Epoch 22/100\n",
      "23/23 [==============================] - 0s 2ms/step - loss: 168.7720 - val_loss: 155.9028\n",
      "Epoch 23/100\n",
      "23/23 [==============================] - 0s 2ms/step - loss: 165.8725 - val_loss: 153.4087\n",
      "Epoch 24/100\n",
      "23/23 [==============================] - 0s 2ms/step - loss: 163.0341 - val_loss: 150.6911\n",
      "Epoch 25/100\n",
      "23/23 [==============================] - 0s 2ms/step - loss: 160.6953 - val_loss: 148.5494\n",
      "Epoch 26/100\n",
      "23/23 [==============================] - 0s 3ms/step - loss: 158.6437 - val_loss: 147.0131\n",
      "Epoch 27/100\n",
      "23/23 [==============================] - 0s 2ms/step - loss: 156.4840 - val_loss: 144.6564\n",
      "Epoch 28/100\n",
      "23/23 [==============================] - 0s 3ms/step - loss: 154.7725 - val_loss: 143.8339\n",
      "Epoch 29/100\n",
      "23/23 [==============================] - 0s 2ms/step - loss: 152.9350 - val_loss: 141.3990\n",
      "Epoch 30/100\n",
      "23/23 [==============================] - 0s 2ms/step - loss: 151.1402 - val_loss: 140.0641\n",
      "Epoch 31/100\n",
      "23/23 [==============================] - 0s 2ms/step - loss: 149.7285 - val_loss: 138.4622\n",
      "Epoch 32/100\n",
      "23/23 [==============================] - 0s 2ms/step - loss: 148.0612 - val_loss: 137.2272\n",
      "Epoch 33/100\n",
      "23/23 [==============================] - 0s 2ms/step - loss: 146.7013 - val_loss: 135.5182\n",
      "Epoch 34/100\n",
      "23/23 [==============================] - 0s 2ms/step - loss: 144.9840 - val_loss: 134.4115\n",
      "Epoch 35/100\n",
      "23/23 [==============================] - 0s 2ms/step - loss: 143.7916 - val_loss: 133.1940\n",
      "Epoch 36/100\n",
      "23/23 [==============================] - 0s 2ms/step - loss: 142.9924 - val_loss: 131.9531\n",
      "Epoch 37/100\n",
      "23/23 [==============================] - 0s 2ms/step - loss: 141.2892 - val_loss: 130.9026\n",
      "Epoch 38/100\n",
      "23/23 [==============================] - 0s 2ms/step - loss: 140.3366 - val_loss: 128.9876\n",
      "Epoch 39/100\n",
      "23/23 [==============================] - 0s 2ms/step - loss: 138.7245 - val_loss: 128.0657\n",
      "Epoch 40/100\n",
      "23/23 [==============================] - 0s 2ms/step - loss: 138.0018 - val_loss: 127.4180\n",
      "Epoch 41/100\n",
      "23/23 [==============================] - 0s 2ms/step - loss: 136.9737 - val_loss: 125.5473\n",
      "Epoch 42/100\n",
      "23/23 [==============================] - 0s 2ms/step - loss: 135.5127 - val_loss: 125.4227\n",
      "Epoch 43/100\n",
      "23/23 [==============================] - 0s 2ms/step - loss: 134.4791 - val_loss: 124.0879\n",
      "Epoch 44/100\n",
      "23/23 [==============================] - 0s 2ms/step - loss: 133.2361 - val_loss: 122.6662\n",
      "Epoch 45/100\n",
      "23/23 [==============================] - 0s 2ms/step - loss: 132.4227 - val_loss: 121.8774\n",
      "Epoch 46/100\n",
      "23/23 [==============================] - 0s 2ms/step - loss: 131.5872 - val_loss: 121.2354\n",
      "Epoch 47/100\n",
      "23/23 [==============================] - 0s 2ms/step - loss: 130.2898 - val_loss: 119.9724\n",
      "Epoch 48/100\n",
      "23/23 [==============================] - 0s 2ms/step - loss: 129.1863 - val_loss: 119.0359\n",
      "Epoch 49/100\n",
      "23/23 [==============================] - 0s 2ms/step - loss: 128.4532 - val_loss: 118.2363\n",
      "Epoch 50/100\n",
      "23/23 [==============================] - 0s 2ms/step - loss: 127.7479 - val_loss: 117.8571\n",
      "Epoch 51/100\n",
      "23/23 [==============================] - 0s 2ms/step - loss: 126.4061 - val_loss: 116.0026\n",
      "Epoch 52/100\n",
      "23/23 [==============================] - 0s 2ms/step - loss: 125.6755 - val_loss: 115.3986\n",
      "Epoch 53/100\n",
      "23/23 [==============================] - 0s 2ms/step - loss: 124.0127 - val_loss: 114.8915\n",
      "Epoch 54/100\n",
      "23/23 [==============================] - 0s 2ms/step - loss: 123.0285 - val_loss: 113.4412\n",
      "Epoch 55/100\n",
      "23/23 [==============================] - 0s 2ms/step - loss: 121.9774 - val_loss: 112.7801\n",
      "Epoch 56/100\n",
      "23/23 [==============================] - 0s 2ms/step - loss: 121.0227 - val_loss: 111.6665\n",
      "Epoch 57/100\n",
      "23/23 [==============================] - 0s 2ms/step - loss: 120.0307 - val_loss: 111.5392\n",
      "Epoch 58/100\n",
      "23/23 [==============================] - 0s 2ms/step - loss: 119.0727 - val_loss: 110.6821\n",
      "Epoch 59/100\n",
      "23/23 [==============================] - 0s 2ms/step - loss: 117.8441 - val_loss: 109.4487\n",
      "Epoch 60/100\n",
      "23/23 [==============================] - 0s 2ms/step - loss: 116.7086 - val_loss: 108.6519\n",
      "Epoch 61/100\n",
      "23/23 [==============================] - 0s 2ms/step - loss: 115.7886 - val_loss: 107.2560\n",
      "Epoch 62/100\n",
      "23/23 [==============================] - 0s 2ms/step - loss: 114.6494 - val_loss: 107.0384\n",
      "Epoch 63/100\n",
      "23/23 [==============================] - 0s 2ms/step - loss: 113.3314 - val_loss: 105.6453\n",
      "Epoch 64/100\n",
      "23/23 [==============================] - 0s 2ms/step - loss: 112.0297 - val_loss: 104.6211\n",
      "Epoch 65/100\n",
      "23/23 [==============================] - 0s 2ms/step - loss: 110.7809 - val_loss: 103.6630\n",
      "Epoch 66/100\n",
      "23/23 [==============================] - 0s 2ms/step - loss: 109.6932 - val_loss: 103.0366\n",
      "Epoch 67/100\n",
      "23/23 [==============================] - 0s 2ms/step - loss: 109.1687 - val_loss: 102.6292\n",
      "Epoch 68/100\n",
      "23/23 [==============================] - 0s 2ms/step - loss: 107.6452 - val_loss: 100.9415\n",
      "Epoch 69/100\n",
      "23/23 [==============================] - 0s 2ms/step - loss: 106.4017 - val_loss: 99.4078\n",
      "Epoch 70/100\n",
      "23/23 [==============================] - 0s 2ms/step - loss: 105.2468 - val_loss: 99.3385\n",
      "Epoch 71/100\n",
      "23/23 [==============================] - 0s 2ms/step - loss: 103.8026 - val_loss: 98.5368\n",
      "Epoch 72/100\n",
      "23/23 [==============================] - 0s 3ms/step - loss: 102.6859 - val_loss: 96.5975\n",
      "Epoch 73/100\n",
      "23/23 [==============================] - 0s 2ms/step - loss: 101.4430 - val_loss: 96.4456\n",
      "Epoch 74/100\n",
      "23/23 [==============================] - 0s 2ms/step - loss: 100.5177 - val_loss: 94.5368\n",
      "Epoch 75/100\n",
      "23/23 [==============================] - 0s 2ms/step - loss: 98.8012 - val_loss: 94.9015\n",
      "Epoch 76/100\n",
      "23/23 [==============================] - 0s 2ms/step - loss: 97.7451 - val_loss: 92.0806\n",
      "Epoch 77/100\n",
      "23/23 [==============================] - 0s 2ms/step - loss: 96.2130 - val_loss: 91.5997\n",
      "Epoch 78/100\n",
      "23/23 [==============================] - 0s 2ms/step - loss: 94.8265 - val_loss: 90.9219\n",
      "Epoch 79/100\n",
      "23/23 [==============================] - 0s 2ms/step - loss: 93.5341 - val_loss: 88.6495\n",
      "Epoch 80/100\n",
      "23/23 [==============================] - 0s 2ms/step - loss: 91.9715 - val_loss: 88.6019\n",
      "Epoch 81/100\n",
      "23/23 [==============================] - 0s 2ms/step - loss: 90.7313 - val_loss: 86.4254\n",
      "Epoch 82/100\n",
      "23/23 [==============================] - 0s 2ms/step - loss: 89.3539 - val_loss: 85.3188\n",
      "Epoch 83/100\n",
      "23/23 [==============================] - 0s 2ms/step - loss: 87.5088 - val_loss: 83.4916\n",
      "Epoch 84/100\n",
      "23/23 [==============================] - 0s 2ms/step - loss: 85.8346 - val_loss: 84.4533\n",
      "Epoch 85/100\n",
      "23/23 [==============================] - 0s 2ms/step - loss: 84.6938 - val_loss: 81.3800\n",
      "Epoch 86/100\n",
      "23/23 [==============================] - 0s 2ms/step - loss: 83.0560 - val_loss: 81.4659\n",
      "Epoch 87/100\n",
      "23/23 [==============================] - 0s 2ms/step - loss: 81.9355 - val_loss: 80.1637\n",
      "Epoch 88/100\n",
      "23/23 [==============================] - 0s 2ms/step - loss: 80.2745 - val_loss: 79.3211\n",
      "Epoch 89/100\n",
      "23/23 [==============================] - 0s 2ms/step - loss: 78.9480 - val_loss: 77.5223\n",
      "Epoch 90/100\n",
      "23/23 [==============================] - 0s 2ms/step - loss: 78.1908 - val_loss: 76.1000\n",
      "Epoch 91/100\n",
      "23/23 [==============================] - 0s 3ms/step - loss: 76.2906 - val_loss: 75.4812\n",
      "Epoch 92/100\n",
      "23/23 [==============================] - 0s 3ms/step - loss: 74.7187 - val_loss: 74.8587\n",
      "Epoch 93/100\n",
      "23/23 [==============================] - 0s 3ms/step - loss: 73.3984 - val_loss: 73.9315\n",
      "Epoch 94/100\n",
      "23/23 [==============================] - 0s 2ms/step - loss: 72.2377 - val_loss: 73.6841\n",
      "Epoch 95/100\n",
      "23/23 [==============================] - 0s 2ms/step - loss: 71.1900 - val_loss: 72.3848\n",
      "Epoch 96/100\n",
      "23/23 [==============================] - 0s 3ms/step - loss: 70.2383 - val_loss: 71.9556\n",
      "Epoch 97/100\n",
      "23/23 [==============================] - 0s 2ms/step - loss: 69.0389 - val_loss: 70.6257\n",
      "Epoch 98/100\n",
      "23/23 [==============================] - 0s 2ms/step - loss: 68.1631 - val_loss: 70.4891\n",
      "Epoch 99/100\n",
      "23/23 [==============================] - 0s 2ms/step - loss: 67.0877 - val_loss: 69.0022\n",
      "Epoch 100/100\n",
      "23/23 [==============================] - 0s 2ms/step - loss: 67.0416 - val_loss: 69.5420\n"
     ]
    },
    {
     "data": {
      "text/plain": [
       "<keras.callbacks.History at 0x1d6305c3250>"
      ]
     },
     "execution_count": 37,
     "metadata": {},
     "output_type": "execute_result"
    }
   ],
   "source": [
    "model.fit(X_train, y_train, batch_size= 32, epochs=100,validation_data=(X_test,y_test)) #with 50 epoches"
   ]
  },
  {
   "cell_type": "markdown",
   "id": "12af87e1",
   "metadata": {},
   "source": [
    "# Model testing"
   ]
  },
  {
   "cell_type": "code",
   "execution_count": 38,
   "id": "0629de4f",
   "metadata": {},
   "outputs": [],
   "source": [
    "y_predict=model.predict(X_test)"
   ]
  },
  {
   "cell_type": "markdown",
   "id": "e11c438b",
   "metadata": {},
   "source": [
    "# Mean squared error"
   ]
  },
  {
   "cell_type": "code",
   "execution_count": 29,
   "id": "84652e4e",
   "metadata": {},
   "outputs": [],
   "source": []
  },
  {
   "cell_type": "code",
   "execution_count": 39,
   "id": "a35bdc12",
   "metadata": {},
   "outputs": [
    {
     "name": "stdout",
     "output_type": "stream",
     "text": [
      "Mean squared error :  69.54197278929767\n"
     ]
    }
   ],
   "source": [
    "print(\"Mean squared error : \",mean_squared_error(y_test,y_predict))"
   ]
  },
  {
   "cell_type": "markdown",
   "id": "a1066563",
   "metadata": {},
   "source": [
    "### The MSE is decreased by 87.1994"
   ]
  }
 ],
 "metadata": {
  "kernelspec": {
   "display_name": "Python 3 (ipykernel)",
   "language": "python",
   "name": "python3"
  },
  "language_info": {
   "codemirror_mode": {
    "name": "ipython",
    "version": 3
   },
   "file_extension": ".py",
   "mimetype": "text/x-python",
   "name": "python",
   "nbconvert_exporter": "python",
   "pygments_lexer": "ipython3",
   "version": "3.9.7"
  }
 },
 "nbformat": 4,
 "nbformat_minor": 5
}
